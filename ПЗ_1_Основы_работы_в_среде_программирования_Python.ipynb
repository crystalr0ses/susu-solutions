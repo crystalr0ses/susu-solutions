{
  "nbformat": 4,
  "nbformat_minor": 0,
  "metadata": {
    "kernelspec": {
      "display_name": "Python 3",
      "language": "python",
      "name": "python3"
    },
    "language_info": {
      "codemirror_mode": {
        "name": "ipython",
        "version": 3
      },
      "file_extension": ".py",
      "mimetype": "text/x-python",
      "name": "python",
      "nbconvert_exporter": "python",
      "pygments_lexer": "ipython3",
      "version": "3.7.3"
    },
    "colab": {
      "provenance": []
    }
  },
  "cells": [
    {
      "cell_type": "markdown",
      "source": [
        "> **Задание 1.1.** Запросите у пользователя номер академической группы и вместо приветствия \"*Здравствуйте, ??!*\" выведите на экран сообщение \"*Здравствуйте, ?? из ?? группы!*\"."
      ],
      "metadata": {
        "id": "7RhraXQgwFmd"
      }
    },
    {
      "cell_type": "code",
      "source": [
        "name = input('Как вас зовут? ')\n",
        "group = input('ваш номер группы? ')\n",
        "# print('Здравствуйте, '+ name + ' из ' + group + ' группы!')\n",
        "print(f'Здравствуйте, {name} из {group} группы!')"
      ],
      "metadata": {
        "id": "_Hqk63f0wM4c",
        "colab": {
          "base_uri": "https://localhost:8080/"
        },
        "outputId": "4080f964-f5e7-4dd4-cae6-96712179c1e8"
      },
      "execution_count": null,
      "outputs": [
        {
          "output_type": "stream",
          "name": "stdout",
          "text": [
            "Как вас зовут? иик\n",
            "ваш номер группы? 2312\n",
            "Здравствуйте, иик из 2312 группы!\n"
          ]
        }
      ]
    },
    {
      "cell_type": "markdown",
      "source": [
        "> **Задание 1.2.** Вычислите 2 в 179 степени. Выведите на экран вычисленное значение.\n"
      ],
      "metadata": {
        "id": "mErhrPjXvYFl"
      }
    },
    {
      "cell_type": "code",
      "source": [
        "# print(2 ** 179)\n",
        "print(pow(2, 179))"
      ],
      "metadata": {
        "id": "kgIjilrYvmsB",
        "colab": {
          "base_uri": "https://localhost:8080/"
        },
        "outputId": "fc8e43ee-70b5-4690-d328-46f95649670f"
      },
      "execution_count": null,
      "outputs": [
        {
          "output_type": "stream",
          "name": "stdout",
          "text": [
            "766247770432944429179173513575154591809369561091801088\n"
          ]
        }
      ]
    },
    {
      "cell_type": "markdown",
      "source": [
        "> **Задание 1.3.** Запишите слово Python 100 раз подряд.\n",
        "\n",
        "Подсказка: Попробуйте умножить строку на число. Что получится?\n"
      ],
      "metadata": {
        "id": "M3-n85KqvsUF"
      }
    },
    {
      "cell_type": "code",
      "source": [
        "print('python'*100)"
      ],
      "metadata": {
        "id": "hYnJgUFKv2fj",
        "colab": {
          "base_uri": "https://localhost:8080/"
        },
        "outputId": "d91db1a9-dfbd-4185-8bca-c405a00910f8"
      },
      "execution_count": null,
      "outputs": [
        {
          "output_type": "stream",
          "name": "stdout",
          "text": [
            "pythonpythonpythonpythonpythonpythonpythonpythonpythonpythonpythonpythonpythonpythonpythonpythonpythonpythonpythonpythonpythonpythonpythonpythonpythonpythonpythonpythonpythonpythonpythonpythonpythonpythonpythonpythonpythonpythonpythonpythonpythonpythonpythonpythonpythonpythonpythonpythonpythonpythonpythonpythonpythonpythonpythonpythonpythonpythonpythonpythonpythonpythonpythonpythonpythonpythonpythonpythonpythonpythonpythonpythonpythonpythonpythonpythonpythonpythonpythonpythonpythonpythonpythonpythonpythonpythonpythonpythonpythonpythonpythonpythonpythonpythonpythonpythonpythonpythonpythonpython\n"
          ]
        }
      ]
    },
    {
      "cell_type": "markdown",
      "source": [
        "> **Задание 1.4.** Дано два числа: a и b. Найдите гипотенузу треугольника с заданными катетами.\n",
        "\n",
        "Пример\n",
        "\n",
        "Входные данные: 3, 4\n",
        "\n",
        "Выходные данные: 5.0\n"
      ],
      "metadata": {
        "id": "ni89oaL9v6T5"
      }
    },
    {
      "cell_type": "code",
      "source": [
        "a = int(input('a: '))\n",
        "b = int(input('b: '))\n",
        "\n",
        "# print((a ** 2 + b ** 2) ** 0.5)\n",
        "print(pow(pow(a, 2) + pow(b, 2), 0.5))"
      ],
      "metadata": {
        "id": "t5XASxN_wPo1",
        "colab": {
          "base_uri": "https://localhost:8080/"
        },
        "outputId": "1adf49ff-6130-42f6-e933-eeaa5698b2c2"
      },
      "execution_count": null,
      "outputs": [
        {
          "output_type": "stream",
          "name": "stdout",
          "text": [
            "a: 6\n",
            "b: 8\n",
            "10.0\n"
          ]
        }
      ]
    },
    {
      "cell_type": "markdown",
      "source": [
        "> **Задание 1.5.** N студентов делят K яблок поровну, неделящийся остаток остается в корзинке. Сколько яблок достанется каждому школьнику?\n",
        "\n",
        "Примеры\n",
        "\n",
        "Входные данные: 3, 14\n",
        "\n",
        "Выходные данные: 4\n"
      ],
      "metadata": {
        "id": "jYpFEscTwSTg"
      }
    },
    {
      "cell_type": "code",
      "source": [
        "n = int(input('кол-во студентов:'))\n",
        "k = int(input('кол-во яблок:'))\n",
        "print(k // n)"
      ],
      "metadata": {
        "id": "qoGDxR9bwqBF",
        "colab": {
          "base_uri": "https://localhost:8080/"
        },
        "outputId": "830777ab-f355-4ede-9025-4a52f5abc8ac"
      },
      "execution_count": null,
      "outputs": [
        {
          "output_type": "stream",
          "name": "stdout",
          "text": [
            "кол-во студентов:15\n",
            "кол-во яблок:100\n",
            "6\n"
          ]
        }
      ]
    },
    {
      "cell_type": "markdown",
      "source": [
        "> **Задание 1.6.** Дано целое положительное трехзначное число. Найдите сумму его цифр.\n",
        "\n",
        "Пример\n",
        "\n",
        "Входные данные: 179\n",
        "\n",
        "Выходные данные: 17\n"
      ],
      "metadata": {
        "id": "KEWCphv6wtAP"
      }
    },
    {
      "cell_type": "code",
      "source": [
        "userInput = input('введите число: ')\n",
        "sumOfNumbers = 0\n",
        "for i in userInput:\n",
        "  sumOfNumbers+=int(i)\n",
        "print(sumOfNumbers)"
      ],
      "metadata": {
        "id": "VzkWX86iw1NY",
        "colab": {
          "base_uri": "https://localhost:8080/"
        },
        "outputId": "9e649412-f5e0-46e4-b9a1-210ddea377c4"
      },
      "execution_count": null,
      "outputs": [
        {
          "output_type": "stream",
          "name": "stdout",
          "text": [
            "введите число: 324\n",
            "9\n"
          ]
        }
      ]
    },
    {
      "cell_type": "markdown",
      "source": [
        "> **Задание 2.1.** Напишите программу, которая считывает с клавиатуры  положительные числа до тех пор, пока пользователь не введет 0. Программа должна вывести сумму введенных пользователем чисел."
      ],
      "metadata": {
        "id": "kr9hRmm7kfGZ"
      }
    },
    {
      "cell_type": "code",
      "source": [
        "number, sumOfNumbers = 1, 0\n",
        "while number != 0:\n",
        "  number = int(input('введите число: '))\n",
        "  if number > 0:\n",
        "    sumOfNumbers += number\n",
        "print(sumOfNumbers)"
      ],
      "metadata": {
        "id": "DB7gZ236mjet",
        "colab": {
          "base_uri": "https://localhost:8080/"
        },
        "outputId": "42d9a916-246d-4677-c5e5-d60be98aca27"
      },
      "execution_count": null,
      "outputs": [
        {
          "output_type": "stream",
          "name": "stdout",
          "text": [
            "введите число: 3\n",
            "введите число: 2\n",
            "введите число: -2\n",
            "введите число: 0\n",
            "5\n"
          ]
        }
      ]
    },
    {
      "cell_type": "markdown",
      "source": [
        "> **Задание 2.2.** Напишите программу, которая считывает с клавиатуры положительные числа до тех пор, пока пользователь не введет 0. Программа должна вывести количество чисел равных 2."
      ],
      "metadata": {
        "id": "2fmwk2z4m-tG"
      }
    },
    {
      "cell_type": "code",
      "source": [
        "number, cnt = 1, 0\n",
        "while number != 0:\n",
        "  number = int(input('введите число: '))\n",
        "  if number == 2:\n",
        "    cnt+=1\n",
        "print(cnt)"
      ],
      "metadata": {
        "id": "vTjwR0D-nEdd",
        "colab": {
          "base_uri": "https://localhost:8080/"
        },
        "outputId": "4e4e2fbc-9c87-4e1c-b783-0b431e734a97"
      },
      "execution_count": null,
      "outputs": [
        {
          "output_type": "stream",
          "name": "stdout",
          "text": [
            "введите число: 3\n",
            "введите число: 2\n",
            "введите число: 2\n",
            "введите число: 4\n",
            "введите число: 5\n",
            "введите число: -2\n",
            "введите число: -3\n",
            "введите число: 0\n",
            "2\n"
          ]
        }
      ]
    },
    {
      "cell_type": "markdown",
      "source": [
        "> **Задание 2.3.** По заданному пользователю натуральному n ≤ 9 выведите лесенку из n ступенек, где i-я ступенька состоит из чисел от 1 до i без пробелов.\n",
        "\n",
        "Разрешается использовать функцию str(число). Данная функция переводит числовые данные в строковые."
      ],
      "metadata": {
        "id": "80jmDkv8nXtZ"
      }
    },
    {
      "cell_type": "code",
      "source": [
        "n = int(input('кол-во ступенек: '))\n",
        "i, j = 1, 1\n",
        "while i <= n:\n",
        "  strResult, j = '', 1\n",
        "  while j <= i:\n",
        "    strResult += str(j)\n",
        "    j += 1\n",
        "  print(strResult)\n",
        "  i += 1"
      ],
      "metadata": {
        "id": "mOzYK6o-n0if",
        "colab": {
          "base_uri": "https://localhost:8080/"
        },
        "outputId": "1c4b5ebc-af2b-41eb-8444-8983f4151279"
      },
      "execution_count": null,
      "outputs": [
        {
          "output_type": "stream",
          "name": "stdout",
          "text": [
            "кол-во ступенек: 9\n",
            "1\n",
            "12\n",
            "123\n",
            "1234\n",
            "12345\n",
            "123456\n",
            "1234567\n",
            "12345678\n",
            "123456789\n"
          ]
        }
      ]
    },
    {
      "cell_type": "markdown",
      "source": [
        "> **Задание 2.4.** Дополните код из предыдущего задания так, чтобы теперь получалась пирамида. То есть каждая ступень состоит из чисел от 1 до i и обратно."
      ],
      "metadata": {
        "id": "bbYKIVi125lj"
      }
    },
    {
      "cell_type": "code",
      "source": [
        "n = int(input('кол-во ступенек: '))\n",
        "i, j = 1, 1\n",
        "while i <= n:\n",
        "  strResult, j = '', 1\n",
        "  while j < i:\n",
        "    strResult += str(j)\n",
        "    j += 1\n",
        "  while j > 0:\n",
        "    strResult += str(j)\n",
        "    j -= 1\n",
        "  print(' ' * (n - i) + strResult)\n",
        "  i += 1"
      ],
      "metadata": {
        "id": "J_mRoBj_3FBb",
        "colab": {
          "base_uri": "https://localhost:8080/"
        },
        "outputId": "0fa57866-7169-4b18-877c-29b5acb84edf"
      },
      "execution_count": null,
      "outputs": [
        {
          "output_type": "stream",
          "name": "stdout",
          "text": [
            "кол-во ступенек: 9\n",
            "        1\n",
            "       121\n",
            "      12321\n",
            "     1234321\n",
            "    123454321\n",
            "   12345654321\n",
            "  1234567654321\n",
            " 123456787654321\n",
            "12345678987654321\n"
          ]
        }
      ]
    },
    {
      "cell_type": "markdown",
      "source": [
        "> **Задание 2.5.** Дополните код из предыдущего задания, чтобы теперь получался ромб. То есть количество ступеней должно равняться числу 2*n-1."
      ],
      "metadata": {
        "id": "tRj7QxOm3Ll_"
      }
    },
    {
      "cell_type": "code",
      "source": [
        "n = int(input('кол-во ступенек: '))\n",
        "i, j = 1, 1\n",
        "while i <= n:\n",
        "  strResult, j = '', 1\n",
        "  while j < i:\n",
        "    strResult += str(j)\n",
        "    j += 1\n",
        "  while j > 0:\n",
        "    strResult += str(j)\n",
        "    j -= 1\n",
        "  print(' ' * (n - i) + strResult)\n",
        "  i += 1\n",
        "i -= 2\n",
        "while i >= 1:\n",
        "  strResult, j = '', 1\n",
        "  while j < i:\n",
        "    strResult += str(j)\n",
        "    j += 1\n",
        "  while j > 0:\n",
        "    strResult += str(j)\n",
        "    j -= 1\n",
        "  print(' ' * (n - i) + strResult)\n",
        "  i -= 1"
      ],
      "metadata": {
        "id": "Vk05EB4z3VaJ",
        "colab": {
          "base_uri": "https://localhost:8080/"
        },
        "outputId": "044f62e6-8268-4cc5-eee0-446aa6186942"
      },
      "execution_count": null,
      "outputs": [
        {
          "output_type": "stream",
          "name": "stdout",
          "text": [
            "кол-во ступенек: 9\n",
            "        1\n",
            "       121\n",
            "      12321\n",
            "     1234321\n",
            "    123454321\n",
            "   12345654321\n",
            "  1234567654321\n",
            " 123456787654321\n",
            "12345678987654321\n",
            " 123456787654321\n",
            "  1234567654321\n",
            "   12345654321\n",
            "    123454321\n",
            "     1234321\n",
            "      12321\n",
            "       121\n",
            "        1\n"
          ]
        }
      ]
    },
    {
      "cell_type": "markdown",
      "source": [
        "> **Задание 2.6.** Используя циклы, напишите код, который бы выводил фигуру, изображенную ниже. Программа должна выводить фигуру разной величины, в зависимости от входного параметра. Значение параметра может принимать значения от 0 до 9.\n",
        "\n",
        "\n",
        "\n",
        "```\n",
        "        1\n",
        "       12\n",
        "      123    \n",
        "     1234     \n",
        "    12345      \n",
        "   123456     \n",
        "  1234567        \n",
        " 12345678         \n",
        "123456789          \n",
        "         987654321\n",
        "         87654321\n",
        "         7654321\n",
        "         654321\n",
        "         54321\n",
        "         4321\n",
        "         321\n",
        "         21\n",
        "         1\n",
        "```\n"
      ],
      "metadata": {
        "id": "YpUXpyud9fKZ"
      }
    },
    {
      "cell_type": "code",
      "source": [
        "n = int(input('кол-во ступеней: '))\n",
        "for i in range(1, n + 1):\n",
        "  _str = ''\n",
        "  for j in range(1, i + 1):\n",
        "    _str += str(j)\n",
        "  print(' ' * (n - i) + _str)\n",
        "for i in range(n, 0, -1):\n",
        "  _str = ''\n",
        "  for j in range(i, 0, -1):\n",
        "    _str += str(j)\n",
        "  print(' ' * (n) + _str)"
      ],
      "metadata": {
        "id": "fBY6WD_I-zDv",
        "colab": {
          "base_uri": "https://localhost:8080/"
        },
        "outputId": "37650e06-9d90-4bf8-a2d7-6bc302a23655"
      },
      "execution_count": null,
      "outputs": [
        {
          "output_type": "stream",
          "name": "stdout",
          "text": [
            "кол-во ступеней: 9\n",
            "        1\n",
            "       12\n",
            "      123\n",
            "     1234\n",
            "    12345\n",
            "   123456\n",
            "  1234567\n",
            " 12345678\n",
            "123456789\n",
            "         987654321\n",
            "         87654321\n",
            "         7654321\n",
            "         654321\n",
            "         54321\n",
            "         4321\n",
            "         321\n",
            "         21\n",
            "         1\n"
          ]
        }
      ]
    },
    {
      "cell_type": "markdown",
      "source": [
        "> **Задание 2.7.** Используя циклы, напишите код, который бы выводил фигуру, изображенную ниже. Программа должна выводить фигуру разной величины, в зависимости от входного параметра. Значение параметра может принимать значения от 0 до 9.\n",
        "\n",
        "\n",
        "\n",
        "```\n",
        "                       1\n",
        "                       21\n",
        "                       321  \n",
        "                       4321    \n",
        "                       54321     \n",
        "                       654321    \n",
        "                       7654321       \n",
        "                       87654321        \n",
        "                       987654321         \n",
        "                       87654321\n",
        "                       7654321\n",
        "                       654321\n",
        "                       54321\n",
        "                       4321\n",
        "                       321\n",
        "                       21\n",
        "                       1\n",
        "```\n"
      ],
      "metadata": {
        "id": "JP5yXZ0b-q8f"
      }
    },
    {
      "cell_type": "code",
      "source": [
        "n = int(input('кол-во ступеней: '))\n",
        "for i in range(1, n + 1):\n",
        "  _str = ''\n",
        "  for j in range(i, 0, -1):\n",
        "    _str += str(j)\n",
        "  print(' ' * (n) + _str)\n",
        "for i in range(n-1, 0, -1):\n",
        "  _str = ''\n",
        "  for j in range(i, 0, -1):\n",
        "    _str += str(j)\n",
        "  print(' ' * (n) + _str)"
      ],
      "metadata": {
        "id": "MeqGZYHi9kgm",
        "colab": {
          "base_uri": "https://localhost:8080/"
        },
        "outputId": "c748e027-5840-46cd-8448-815ec65175be"
      },
      "execution_count": null,
      "outputs": [
        {
          "output_type": "stream",
          "name": "stdout",
          "text": [
            "кол-во ступеней: 9\n",
            "         1\n",
            "         21\n",
            "         321\n",
            "         4321\n",
            "         54321\n",
            "         654321\n",
            "         7654321\n",
            "         87654321\n",
            "         987654321\n",
            "         87654321\n",
            "         7654321\n",
            "         654321\n",
            "         54321\n",
            "         4321\n",
            "         321\n",
            "         21\n",
            "         1\n"
          ]
        }
      ]
    },
    {
      "cell_type": "markdown",
      "source": [
        "> **Задание 2.8.** Напишите программу, которая переводит цифры введенного пользователем числа в их символьное обозначение с помощью символа \"*\".\n",
        "\n",
        "\n",
        "```\n",
        "  ***     *    ***    ***      *    *****  *      *****   ***    ****   \n",
        " *   *   **   *   *  *   *    **    *      *          *  *   *  *   *   \n",
        "*     *   *   *  *       *   * *    *      *         *   *   *  *   *   \n",
        "*     *   *     *      **   *  *     ***   ****     *     ***    ****  \n",
        "*     *   *    *         *  ******      *  *   *   *     *   *      *     \n",
        " *   *    *   *      *   *     *        *  *   *  *      *   *      *  \n",
        "  ***    ***  *****   ***      *    ****   ****   *       ***       *   \n",
        "```\n",
        "\n"
      ],
      "metadata": {
        "id": "sRkqPA1h_FKM"
      }
    },
    {
      "cell_type": "code",
      "source": [
        "_0 = '''\n",
        "  ***\n",
        " *   *\n",
        "*     *\n",
        "*     *\n",
        "*     *\n",
        " *   *\n",
        "  ***\n",
        "'''\n",
        "\n",
        "_1 = '''\n",
        "   *\n",
        "  **\n",
        "   *\n",
        "   *\n",
        "   *\n",
        "   *\n",
        " *****\n",
        "'''\n",
        "\n",
        "_2 = '''\n",
        " *****\n",
        "*     *\n",
        "*    *\n",
        "    *\n",
        "   *\n",
        "  *\n",
        "*******\n",
        "'''\n",
        "\n",
        "_3 = '''\n",
        " *****\n",
        "*     *\n",
        "      *\n",
        "   ***\n",
        "      *\n",
        "*     *\n",
        " *****\n",
        "'''\n",
        "\n",
        "_4 = '''\n",
        "    *\n",
        "   **\n",
        "  * *\n",
        " *  *\n",
        "*******\n",
        "   *\n",
        "   *\n",
        "'''\n",
        "\n",
        "_5 = '''\n",
        "*******\n",
        "*\n",
        "*\n",
        " *****\n",
        "      *\n",
        "      *\n",
        "******\n",
        "'''\n",
        "\n",
        "_6 = '''\n",
        "*\n",
        "*\n",
        "*\n",
        "******\n",
        "*     *\n",
        "*     *\n",
        "******\n",
        "'''\n",
        "\n",
        "_7 = '''\n",
        "*******\n",
        "     *\n",
        "    *\n",
        "   *\n",
        "  *\n",
        " *\n",
        "*\n",
        "'''\n",
        "\n",
        "_8 = '''\n",
        " *****\n",
        "*     *\n",
        "*     *\n",
        " *****\n",
        "*     *\n",
        "*     *\n",
        " *****\n",
        "'''\n",
        "\n",
        "_9 = '''\n",
        " ******\n",
        "*     *\n",
        "*     *\n",
        " ******\n",
        "      *\n",
        "      *\n",
        "      *\n",
        "'''\n",
        "\n",
        "n = input('введите число: ')\n",
        "\n",
        "result = ''\n",
        "for x in n:\n",
        "  if int(x) == 1:\n",
        "    tmp = _1\n",
        "  elif int(x) == 2:\n",
        "    tmp = _2\n",
        "  elif int(x) == 3:\n",
        "    tmp = _3\n",
        "  elif int(x) == 4:\n",
        "    tmp = _4\n",
        "  elif int(x) == 5:\n",
        "    tmp = _5\n",
        "  elif int(x) == 6:\n",
        "    tmp = _6\n",
        "  elif int(x) == 7:\n",
        "    tmp = _7\n",
        "  elif int(x) == 8:\n",
        "    tmp = _8\n",
        "  elif int(x) == 9:\n",
        "    tmp = _9\n",
        "  else:\n",
        "    tmp = _0\n",
        "  result += tmp\n",
        "print(result)"
      ],
      "metadata": {
        "id": "ADShRPL9OcNt",
        "colab": {
          "base_uri": "https://localhost:8080/"
        },
        "outputId": "7c4db307-f238-4b9b-f475-fdac7b33a3b1"
      },
      "execution_count": null,
      "outputs": [
        {
          "output_type": "stream",
          "name": "stdout",
          "text": [
            "введите число: 3245\n",
            "\n",
            " *****\n",
            "*     *\n",
            "      *\n",
            "   ***\n",
            "      *\n",
            "*     *\n",
            " *****\n",
            "\n",
            " *****\n",
            "*     *\n",
            "*    *\n",
            "    *\n",
            "   *\n",
            "  *\n",
            "*******\n",
            "\n",
            "    *\n",
            "   **\n",
            "  * *\n",
            " *  *\n",
            "*******\n",
            "   *\n",
            "   *\n",
            "\n",
            "*******\n",
            "*\n",
            "*\n",
            " *****\n",
            "      *\n",
            "      *\n",
            "******\n",
            "\n"
          ]
        }
      ]
    },
    {
      "cell_type": "markdown",
      "source": [
        "#Сохраните блокнот в свою папку на Google-диске."
      ],
      "metadata": {
        "id": "YaGJMDdWzC7V"
      }
    }
  ]
}