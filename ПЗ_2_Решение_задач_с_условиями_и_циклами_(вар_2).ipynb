{
  "nbformat": 4,
  "nbformat_minor": 0,
  "metadata": {
    "colab": {
      "provenance": []
    },
    "kernelspec": {
      "name": "python3",
      "display_name": "Python 3"
    },
    "language_info": {
      "name": "python"
    }
  },
  "cells": [
    {
      "cell_type": "code",
      "execution_count": null,
      "metadata": {
        "colab": {
          "base_uri": "https://localhost:8080/"
        },
        "id": "YRP2ow8Bjl__",
        "outputId": "4afbb296-d17b-445a-86fb-dfa5b7b7ef2b"
      },
      "outputs": [
        {
          "output_type": "stream",
          "name": "stdout",
          "text": [
            "a: 1\n",
            "b: -7\n",
            "c: 12\n",
            "уравнение: (1.00000) * x^2 + (-7.00000) * x + (12.00000) = 0\n",
            "количество корней: 2\n",
            "3.00000\n",
            "4.00000\n"
          ]
        }
      ],
      "source": [
        "def Equation(a,b,c):\n",
        "    d = pow(b, 2) - 4 * a * c\n",
        "    if d > 0:\n",
        "        x1 = ((-1) * b + pow(d, 0.5)) / (2 * a)\n",
        "        x2 = ((-1) * b - pow(d, 0.5)) / (2 * a)\n",
        "        if x1 > x2:\n",
        "            x1, x2 = x2, x1\n",
        "        result = [x1, x2]\n",
        "    elif d == 0:\n",
        "        result = [((-1) * b) / (2 * a)]\n",
        "    return result\n",
        "\n",
        "a = 0\n",
        "while a == 0:\n",
        "    a = int(input('a: '))\n",
        "b = int(input('b: '))\n",
        "c = int(input('c: '))\n",
        "\n",
        "print(f'уравнение: ({a:.5f}) * x^2 + ({b:.5f}) * x + ({c:.5f}) = 0')\n",
        "res = Equation(a,b,c)\n",
        "if res:\n",
        "    print(f'количество корней: {len(res)}')\n",
        "    for x in res:\n",
        "        print(f'{x:.5f}')\n",
        "else:\n",
        "    print('количество корней: 0')"
      ]
    }
  ]
}