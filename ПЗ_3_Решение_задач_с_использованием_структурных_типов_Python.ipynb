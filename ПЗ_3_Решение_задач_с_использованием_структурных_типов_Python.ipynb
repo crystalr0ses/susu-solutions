{
  "nbformat": 4,
  "nbformat_minor": 0,
  "metadata": {
    "kernelspec": {
      "display_name": "Python 3",
      "language": "python",
      "name": "python3"
    },
    "language_info": {
      "codemirror_mode": {
        "name": "ipython",
        "version": 3
      },
      "file_extension": ".py",
      "mimetype": "text/x-python",
      "name": "python",
      "nbconvert_exporter": "python",
      "pygments_lexer": "ipython3",
      "version": "3.7.3"
    },
    "colab": {
      "provenance": []
    }
  },
  "cells": [
    {
      "cell_type": "markdown",
      "source": [
        "> **Задание 3.1.** Задан список с числами. Напишите программу, которая выводит все элементы списка с четными индексами в виде нового списка."
      ],
      "metadata": {
        "id": "7RhraXQgwFmd"
      }
    },
    {
      "cell_type": "code",
      "source": [
        "numbers = [x for x in range(10)]\n",
        "\n",
        "even_index = [numbers[x] for x in range(len(numbers)) if x % 2 == 0]\n",
        "print(even_index)"
      ],
      "metadata": {
        "id": "_Hqk63f0wM4c",
        "colab": {
          "base_uri": "https://localhost:8080/"
        },
        "outputId": "ca6b2e0c-0551-46ca-cddd-363c85a6bf79"
      },
      "execution_count": null,
      "outputs": [
        {
          "output_type": "stream",
          "name": "stdout",
          "text": [
            "[0, 2, 4, 6, 8]\n"
          ]
        }
      ]
    },
    {
      "cell_type": "markdown",
      "source": [
        "> **Задание 3.2.** Задан список с числами. Напишите программу, которая выводит все элементы списка, которые больше предыдущего, в виде отдельного списка.\n"
      ],
      "metadata": {
        "id": "mErhrPjXvYFl"
      }
    },
    {
      "cell_type": "code",
      "source": [
        "numbers = [1,3,2,4,4,5,8]\n",
        "\n",
        "new_ar = [numbers[x] for x in range(1, len(numbers)) if numbers[x-1] < numbers[x]]\n",
        "print(new_ar)"
      ],
      "metadata": {
        "id": "kgIjilrYvmsB",
        "colab": {
          "base_uri": "https://localhost:8080/"
        },
        "outputId": "d6200b28-92d4-42b5-ce6a-6c116148b0d4"
      },
      "execution_count": null,
      "outputs": [
        {
          "output_type": "stream",
          "name": "stdout",
          "text": [
            "[3, 4, 5, 8]\n"
          ]
        }
      ]
    },
    {
      "cell_type": "markdown",
      "source": [
        "> **Задание 3.3.** Задан список с числами. Напишите программу, которая меняет местами наибольший и наименьший элемент и выводит новый список.\n"
      ],
      "metadata": {
        "id": "M3-n85KqvsUF"
      }
    },
    {
      "cell_type": "code",
      "source": [
        "numbers = [x for x in range(10)]\n",
        "\n",
        "max_num = max(numbers)\n",
        "min_num = min(numbers)\n",
        "numbers[numbers.index(max_num)], numbers[numbers.index(min_num)] = \\\n",
        "  numbers[numbers.index(min_num)], numbers[numbers.index(max_num)]\n",
        "print(numbers)"
      ],
      "metadata": {
        "id": "hYnJgUFKv2fj",
        "colab": {
          "base_uri": "https://localhost:8080/"
        },
        "outputId": "fb19948b-7cde-494f-f716-cb5d34de2db8"
      },
      "execution_count": null,
      "outputs": [
        {
          "output_type": "stream",
          "name": "stdout",
          "text": [
            "[9, 1, 2, 3, 4, 5, 6, 7, 8, 0]\n"
          ]
        }
      ]
    },
    {
      "cell_type": "markdown",
      "source": [
        "> **Задание 5.1.** Напишите программу, которая будет производить поиск по значению в словаре и выдавать ключ."
      ],
      "metadata": {
        "id": "3kUa0YF3JnpB"
      }
    },
    {
      "cell_type": "code",
      "source": [
        "_dict = {a: str(a ** 2) for a in range(5)}\n",
        "\n",
        "print(_dict)\n",
        "\n",
        "value = input('введите значение для поиска: ')\n",
        "\n",
        "for i, key in enumerate(_dict):\n",
        "\tif value not in _dict.values():\n",
        "\t\tprint('такого значения нет')\n",
        "\t\tbreak\n",
        "\tif _dict[i] == value:\n",
        "\t\t\tprint(f'ключ: {key}')"
      ],
      "metadata": {
        "id": "vGdUVtXiJ-LA",
        "colab": {
          "base_uri": "https://localhost:8080/"
        },
        "outputId": "8996b2d0-2736-4eb1-d5aa-779d4bd96cbb"
      },
      "execution_count": null,
      "outputs": [
        {
          "output_type": "stream",
          "name": "stdout",
          "text": [
            "{0: '0', 1: '1', 2: '4', 3: '9', 4: '16'}\n",
            "введите значение для поиска: 3\n",
            "такого значения нет\n"
          ]
        }
      ]
    },
    {
      "cell_type": "markdown",
      "source": [
        "> **Задание 5.2.** Напишите программу, которая принимает список строк и выводит количество повторений данных строк в списке."
      ],
      "metadata": {
        "id": "jlqSOLcaKCPu"
      }
    },
    {
      "cell_type": "code",
      "source": [
        "arrayOfStrings = ['abc', 'cba', 'abc', 'bbb', 'cca', 'cab']\n",
        "\n",
        "dictOfStrings = {a: arrayOfStrings.count(a) for a in arrayOfStrings}\n",
        "print(dictOfStrings)"
      ],
      "metadata": {
        "id": "VmYeo3eXKI-y",
        "colab": {
          "base_uri": "https://localhost:8080/"
        },
        "outputId": "5d59877b-3892-4576-c88a-e8b180c82c20"
      },
      "execution_count": null,
      "outputs": [
        {
          "output_type": "stream",
          "name": "stdout",
          "text": [
            "{'abc': 2, 'cba': 1, 'bbb': 1, 'cca': 1, 'cab': 1}\n"
          ]
        }
      ]
    },
    {
      "cell_type": "markdown",
      "source": [
        "> **Задание 6.1.** Дан список чисел. Напишите программу, которая определяет, сколько в нем встречается различных чисел, используя множества.\n"
      ],
      "metadata": {
        "id": "ni89oaL9v6T5"
      }
    },
    {
      "cell_type": "code",
      "source": [
        "numbers = [x for x in range(10)]\n",
        "\n",
        "setOfNumbers = {x for x in numbers}\n",
        "print(len(setOfNumbers))"
      ],
      "metadata": {
        "id": "t5XASxN_wPo1",
        "colab": {
          "base_uri": "https://localhost:8080/"
        },
        "outputId": "50c3c300-ac98-4e25-edb9-d5b891dafde7"
      },
      "execution_count": null,
      "outputs": [
        {
          "output_type": "stream",
          "name": "stdout",
          "text": [
            "10\n"
          ]
        }
      ]
    },
    {
      "cell_type": "markdown",
      "source": [
        "> **Задание 6.2.** Даны два списка чисел. Напишите программу, которая определяет, сколько в них встречается общих чисел, используя множества.\n"
      ],
      "metadata": {
        "id": "jYpFEscTwSTg"
      }
    },
    {
      "cell_type": "code",
      "source": [
        "listOfNumbers = [x for x in range(11)]\n",
        "secondListOfNumbers = [x for x in range(5, 16)]\n",
        "\n",
        "setOfNumbers = {x for x in listOfNumbers}\n",
        "secondSetOfNumbers = {x for x in secondListOfNumbers}\n",
        "print(setOfNumbers.intersection(secondSetOfNumbers))"
      ],
      "metadata": {
        "id": "qoGDxR9bwqBF",
        "colab": {
          "base_uri": "https://localhost:8080/"
        },
        "outputId": "68c570c6-5037-4b51-d249-2cde96479cc0"
      },
      "execution_count": null,
      "outputs": [
        {
          "output_type": "stream",
          "name": "stdout",
          "text": [
            "{5, 6, 7, 8, 9, 10}\n"
          ]
        }
      ]
    },
    {
      "cell_type": "markdown",
      "source": [
        "> **Задание 6.3.** Даны два множества чисел. Напишите программу, которая определяет, является ли первое множество подмножеством второго. Множество является подмножеством другого множества, если все данные первого совпадают с частью данных из второго. Если множества совпадают, они не являются подмножествами друг друга."
      ],
      "metadata": {
        "id": "KEWCphv6wtAP"
      }
    },
    {
      "cell_type": "code",
      "source": [
        "setOfNumbers = {x for x in range(11)}\n",
        "secondSetOfNumbers = {x for x in range(5, 16)}\n",
        "\n",
        "if (setOfNumbers.intersection(secondSetOfNumbers) == setOfNumbers \\\n",
        "    or secondSetOfNumbers.intersection(setOfNumbers) == secondSetOfNumbers) \\\n",
        "    and setOfNumbers != secondSetOfNumbers:\n",
        "  print('первое множество является подмножеством второго')\n",
        "else:\n",
        "  print('не являются подмножествами друг друга')"
      ],
      "metadata": {
        "id": "VzkWX86iw1NY",
        "colab": {
          "base_uri": "https://localhost:8080/"
        },
        "outputId": "029914e4-8a22-458a-a768-7e5e0489040a"
      },
      "execution_count": null,
      "outputs": [
        {
          "output_type": "stream",
          "name": "stdout",
          "text": [
            "первое множество является подмножеством второго\n"
          ]
        }
      ]
    },
    {
      "cell_type": "markdown",
      "source": [
        "\n",
        "\n",
        "---\n",
        "\n",
        "\n",
        "# 7. ПРАКТИКУМ"
      ],
      "metadata": {
        "id": "ua-BK6YBGC2q"
      }
    },
    {
      "cell_type": "markdown",
      "source": [
        "> **Задание 7.1.** Напишите программу, которая считывает с клавиатуры арифметическое выражение и выводит результат вычисления этого выражения на экран.\n",
        "\n",
        "Пример 1.\n",
        "\n",
        "* Входные данные: 13 + 21\n",
        "\n",
        "* Выходные данные: 34\n",
        "\n",
        "Пример 2. *\n",
        "\n",
        "* Входные данные: 15 + 9 - 2 * 2\n",
        "\n",
        "* Выходные данные: 17\n",
        "\n",
        "Пример 3. **\n",
        "\n",
        "* Входные данные: (15 + 9 - 2) * 2\n",
        "\n",
        "* Выходные данные: 44"
      ],
      "metadata": {
        "id": "tRj7QxOm3Ll_"
      }
    },
    {
      "cell_type": "code",
      "source": [
        "eq = input('')\n",
        "print(eval(eq))"
      ],
      "metadata": {
        "colab": {
          "base_uri": "https://localhost:8080/"
        },
        "id": "CmepCeqOFRKN",
        "outputId": "55a58a24-1f4c-492b-966e-7ad9ee49ee27"
      },
      "execution_count": null,
      "outputs": [
        {
          "output_type": "stream",
          "name": "stdout",
          "text": [
            "(15 + 9 - 2) * 2\n",
            "44\n"
          ]
        }
      ]
    },
    {
      "cell_type": "code",
      "source": [
        "def calc(a, b, op):\n",
        "    a, b = map(int, [a,b])\n",
        "    match (op):\n",
        "        case '+': return a+b\n",
        "        case '-': return a-b\n",
        "        case '/': return a/b\n",
        "        case '*': return a*b\n",
        "\n",
        "def calculate(ex:list):\n",
        "    '''\n",
        "    определение порядка вычислений\n",
        "    '''\n",
        "    solutionIndex = 1\n",
        "    while solutionIndex != len(ex):\n",
        "        if '*' in ex or '/' in ex:\n",
        "            try:\n",
        "                solutionIndex = ex.index('*')\n",
        "            except ValueError:\n",
        "                solutionIndex = ex.index('/')\n",
        "        if solutionIndex != 1:\n",
        "            ex[solutionIndex-1:solutionIndex+2] = [calc(ex[solutionIndex-1], ex[solutionIndex+1], ex[solutionIndex])]\n",
        "            solutionIndex = 1\n",
        "        ex[solutionIndex-1:solutionIndex+2] = [calc(ex[solutionIndex-1], ex[solutionIndex+1], ex[solutionIndex])]\n",
        "    return ex[0]\n",
        "\n",
        "\n",
        "def split_expression(ex):\n",
        "    '''\n",
        "    решение выражений внутри скобок\n",
        "    '''\n",
        "    i = 0\n",
        "    while i < len(ex):\n",
        "        if ex[i] == '(':\n",
        "            ex = ex.replace(ex[ex.find('('):ex.rfind(')')+1], split_expression(ex[i + 1:ex.rfind(')')]))\n",
        "        i += 1\n",
        "    return str(calculate(ex.split()))\n",
        "\n",
        "# expressions = ['15 + 9 - 2 * 2', '30 - 10 + 5 + 7', '28 + 7 + (14 - 8)', '13 + 21', '(15 + 9 - 2) * 2', '95 - (30 + 5)', '(15 + 9 - (2 * 2))']\n",
        "\n",
        "# for x in expressions:\n",
        "#     print(eval(x), split_expression(x))\n",
        "\n",
        "expression = input('введите выражение: ')\n",
        "print(eval(expression), split_expression(expression))"
      ],
      "metadata": {
        "id": "Vk05EB4z3VaJ",
        "colab": {
          "base_uri": "https://localhost:8080/"
        },
        "outputId": "3d3a05b7-6616-487e-edda-2ad75309b174"
      },
      "execution_count": null,
      "outputs": [
        {
          "output_type": "stream",
          "name": "stdout",
          "text": [
            "введите выражение: (28 + 7 * (14 - 8)) * 27\n",
            "1890 1890\n"
          ]
        }
      ]
    },
    {
      "cell_type": "markdown",
      "source": [
        "> **Задание 7.2.** Напишите программу, которая по заданным коэффициентам квадратного уравнения находит его вещественные корни и их количество.\n",
        "\n",
        "Пример.\n",
        "\n",
        "* Входные данные: 2 3 1\n",
        "\n",
        "* Выходные данные: -1 -0.5\n"
      ],
      "metadata": {
        "id": "ucvG0mgI88x5"
      }
    },
    {
      "cell_type": "code",
      "source": [
        "def Equation(a,b,c):\n",
        "    d = pow(b, 2) - 4 * a * c\n",
        "    if d > 0:\n",
        "        x1 = ((-1) * b + pow(d, 0.5)) / (2 * a)\n",
        "        x2 = ((-1) * b - pow(d, 0.5)) / (2 * a)\n",
        "        if x1 > x2:\n",
        "            x1, x2 = x2, x1\n",
        "        result = [x1, x2]\n",
        "    elif d == 0:\n",
        "        result = [((-1) * b) / (2 * a)]\n",
        "    return result\n",
        "\n",
        "a = 0\n",
        "while a == 0:\n",
        "    a = int(input('a: '))\n",
        "b = int(input('b: '))\n",
        "c = int(input('c: '))\n",
        "\n",
        "print(f'уравнение: ({a:.5f}) * x^2 + ({b:.5f}) * x + ({c:.5f}) = 0')\n",
        "res = Equation(a,b,c)\n",
        "if res:\n",
        "    print(f'количество корней: {len(res)}')\n",
        "    for x in res:\n",
        "        print(f'{x:.5f}')\n",
        "else:\n",
        "    print('количество корней: 0')"
      ],
      "metadata": {
        "id": "fBY6WD_I-zDv",
        "colab": {
          "base_uri": "https://localhost:8080/"
        },
        "outputId": "8fb08f34-089c-4677-9132-418e8cea4f9c"
      },
      "execution_count": null,
      "outputs": [
        {
          "output_type": "stream",
          "name": "stdout",
          "text": [
            "a: 1\n",
            "b: 4\n",
            "c: 4\n",
            "уравнение: (1.00000) * x^2 + (4.00000) * x + (4.00000) = 0\n",
            "количество корней: 1\n",
            "-2.00000\n"
          ]
        }
      ]
    },
    {
      "cell_type": "markdown",
      "source": [
        "> **Задание 7.3.** Недоверчивый покупатель подсчитывает общую сумму покупок в копейках. Но, подходя к кассе, ему трудно разобраться, сколько рублей и копеек он должен заплатить. Напишите программу, которая поможет ему.\n",
        "\n",
        "Пример.\n",
        "\n",
        "* Входные данные: 1302\n",
        "\n",
        "* Выходные данные: 13 рублей 2 копейки\n",
        "\n",
        "Пример.\n",
        "\n",
        "* Входные данные: 20231\n",
        "\n",
        "* Выходные данные: 203 рубля 31 копейка"
      ],
      "metadata": {
        "id": "wwt0jgaRSnhC"
      }
    },
    {
      "cell_type": "code",
      "source": [
        "def rublesInflection(qty):\n",
        "\tif qty % 10 == 1 and qty != 11:\n",
        "\t\treturn 'рубль'\n",
        "\telif (qty % 10 >= 5 and qty % 10 <= 9) or qty <= 20 or qty % 10 == 0:\n",
        "\t\treturn 'рублей'\n",
        "\telse:\n",
        "\t\treturn 'рубля'\n",
        "\n",
        "def centsInflection(qty):\n",
        "\tif qty % 10 == 1 and qty != 11:\n",
        "\t\treturn 'копейка'\n",
        "\telif (qty % 10 >= 5 and qty % 10 <= 9) or qty <= 20 or qty % 10 == 0:\n",
        "\t\treturn 'копеек'\n",
        "\telse:\n",
        "\t\treturn 'копейки'\n",
        "\n",
        "money = int(input('введите сумму покупок: '))\n",
        "rubles = money // 100\n",
        "cents = money % 100\n",
        "print(f'сдача: {rubles} {rublesInflection(rubles)} {cents} {centsInflection(cents)}')"
      ],
      "metadata": {
        "id": "GENzjrzKTjFY",
        "colab": {
          "base_uri": "https://localhost:8080/"
        },
        "outputId": "7c88ddb8-5f29-4f5e-d803-3804867b217f"
      },
      "execution_count": null,
      "outputs": [
        {
          "output_type": "stream",
          "name": "stdout",
          "text": [
            "сдача: 280 рублей 17 копеек\n",
            "сдача: 439 рублей 93 копейки\n",
            "сдача: 237 рублей 15 копеек\n",
            "сдача: 144 рубля 33 копейки\n",
            "сдача: 160 рублей 8 копеек\n",
            "сдача: 313 рубля 75 копеек\n",
            "сдача: 442 рубля 99 копеек\n",
            "сдача: 147 рублей 39 копеек\n",
            "сдача: 321 рубль 49 копеек\n",
            "сдача: 124 рубля 90 копеек\n",
            "сдача: 251 рубль 12 копеек\n",
            "сдача: 422 рубля 6 копеек\n",
            "сдача: 83 рубля 70 копеек\n",
            "сдача: 428 рублей 35 копеек\n",
            "сдача: 57 рублей 41 копейка\n"
          ]
        }
      ]
    },
    {
      "cell_type": "markdown",
      "source": [
        "**Задание.** Создайте текстовый файл \"test.txt\" с текстом \"Hello, world!\" (нажмите кнопку \"Файлы\" в боковом меню google colab).\n",
        "\n",
        "ИЛИ\n",
        "\n",
        "Создайте текстовый файл \"test.txt\" с текстом \"Hello, world!\" в своем рабочем каталоге. Загрузите файл в google colab с помощью кнопки \"Файлы\" в боковом меню."
      ],
      "metadata": {
        "id": "yvIXh29xVMWm"
      }
    },
    {
      "cell_type": "code",
      "source": [
        "f = open('test.txt', 'x')\n",
        "\n",
        "f.write('Hello, world!')\n",
        "\n",
        "f.close()"
      ],
      "metadata": {
        "id": "xslltnVVNpbR"
      },
      "execution_count": null,
      "outputs": []
    },
    {
      "cell_type": "markdown",
      "source": [
        "# 8. Дополнительный практикум"
      ],
      "metadata": {
        "id": "qv-gX0h4Whxm"
      }
    },
    {
      "cell_type": "markdown",
      "source": [
        "> **Задание 8.1.** Создайте текстовый файл \"task.txt\" со следующим содержанием:\n",
        "\n",
        "\n",
        "```\n",
        "EMAIL, NAME, SURNAME, PHONE, CITY\n",
        ", Ivan, Ivanov, 89080135224, Chelyabinsk\n",
        ", Oleg, Ivanov, 89027568441, Omsk\n",
        "```\n",
        "\n",
        "Напишите программу для создания уникальных Email для  данных в текстовом файле 'task.txt'. Столбец EMAIL пустой у всех. Остальные позиции могут быть заполнены или нет.\n",
        "\n",
        "1) Программа должна читать исходный текстовый файл\n",
        "\n",
        "2) Программа должна содержать функцию, представленную ниже, для создания EMAIL\n",
        "\n",
        "3) Программа должна заполнить пустой столбец с EMAIL в исходном файле и перезаписать его\n",
        "\n",
        "4) EMAIL должен создаваться только для тех, у кого заполнены все остальные поля - Имя, Фамилия, Телефонный номер, Город. Данные на русском языке должны быть представлены в транслите.\n",
        "\n",
        "5) Телефонный номер считается валидным, если он состоит из 11 цифр, в противном случае информация невалидна и программа не должна создавать EMAIL\n",
        "\n",
        "Дополните исходный текстовый файл своими тестовыми данынми (не менее 10 новых строк). После выполнения вашей программы исходный текстовый файл должен быть заполнен информацией с EMAIL\n"
      ],
      "metadata": {
        "id": "znyF-6aYQLSP"
      }
    },
    {
      "cell_type": "code",
      "source": [
        "# Функция для создания Email\n",
        "def email_gen(names):\n",
        "    emails = []\n",
        "    for name in names:\n",
        "        letter = 1\n",
        "        while name['surname'] + '.' + name['name'][0:letter] + '@kurchatov.co' in emails:\n",
        "            letter+=1\n",
        "        emails.append(name['surname'] + '.' + name['name'][0:letter] + '@kurchatov.co')\n",
        "    return emails"
      ],
      "metadata": {
        "id": "qZB7Wmi1ReGs"
      },
      "execution_count": null,
      "outputs": []
    },
    {
      "cell_type": "code",
      "source": [
        "# Функция для создания Email\n",
        "def email_gen(names):\n",
        "    emails = []\n",
        "    for name in names:\n",
        "        letter = 1\n",
        "        while name['surname'] + '.' + name['name'][0:letter] + '@kurchatov.co' in emails:\n",
        "            letter+=1\n",
        "        emails.append(name['surname'] + '.' + name['name'][0:letter] + '@kurchatov.co')\n",
        "    return emails\n",
        "\n",
        "with open('./py/susu/task.txt', 'r+') as f:\n",
        "    names = []\n",
        "    f.readline()\n",
        "    for line in f.readlines():\n",
        "        person = {'name': '', 'surname': ''}\n",
        "        text = line.split(', ')\n",
        "        person['name'] = text[1]\n",
        "        person['surname'] = text[2]\n",
        "        names.append(person)\n",
        "    emails = email_gen(names)\n",
        "    f.seek(0)\n",
        "    f.readline()\n",
        "    for i, line in enumerate(f.readlines()):\n",
        "        valid = True\n",
        "        text = line.split(', ')\n",
        "        if 0 in map(len, text[1:]):\n",
        "            valid = False\n",
        "            print('есть пустое поле')\n",
        "        else:\n",
        "            for x in text[1].lower():\n",
        "                if (x < 'a' or x > 'z'):\n",
        "                    valid = False\n",
        "                    print('строка состоит не из латиницы')\n",
        "                    break\n",
        "            for x in text[2].lower():\n",
        "                if (x < 'a' or x > 'z'):\n",
        "                    valid = False\n",
        "                    print('строка состоит не из латиницы')\n",
        "                    break\n",
        "            for x in text[4].lower().strip():\n",
        "                if (x < 'a' or x > 'z'):\n",
        "                    if x == '-' or x == ' ':\n",
        "                        continue\n",
        "                    valid = False\n",
        "                    print('строка состоит не из латиницы')\n",
        "                    break\n",
        "            if len(text[3]) != 11:\n",
        "                valid = False\n",
        "                print('неверный формат номера телефона')\n",
        "        if valid:\n",
        "            text[0] = emails[i]\n",
        "        print(f.tell())\n",
        "        f.write(', '.join(text))\n",
        "\n",
        "        print(text)\n",
        ""
      ],
      "metadata": {
        "id": "tF1g4dfhRYS3"
      },
      "execution_count": null,
      "outputs": []
    },
    {
      "cell_type": "markdown",
      "source": [
        "> **Задание 8.2.**  Необходимо реализовать программу, которая будет генерировать надежный пароль случайным образом. Пароль должен сохраняться в файле 'password.txt'.\n",
        "\n",
        "Пароль считается надежным:\n",
        "\n",
        "1) Пароль содержит не менее 12 символов\n",
        "\n",
        "2) Пароль содержит хотя бы одну заглавную букву\n",
        "\n",
        "3) Пароль содержит хотя бы одну строчную букву\n",
        "\n",
        "4) Пароль содержит хотя бы одну цифру\n",
        "\n",
        "5) Пароль содержит хотя бы один спецсимвол\n",
        "\n",
        "Цифры, которые можно использовать для пароля: '1234567890'\n",
        "\n",
        "Строчные буквы, которые можно использовать для пароля: 'abcdefghijklmnopqrstuvwxyz'\n",
        "\n",
        "Заглавные буквы, которые можно использовать для пароля: 'ABCDEFGHIJKLMNOPQRSTUVWXYZ'\n",
        "\n",
        "Спецсимволы, которые можно использовать для пароля: '!@#$%^&*()-+'\n",
        "\n",
        "Используйте модуль **random**"
      ],
      "metadata": {
        "id": "qI-5wVakYF_H"
      }
    },
    {
      "cell_type": "code",
      "source": [],
      "metadata": {
        "id": "lXTS3qA-mWR7"
      },
      "execution_count": null,
      "outputs": []
    },
    {
      "cell_type": "markdown",
      "source": [
        "#Сохраните блокнот в свою папку на Google-диске."
      ],
      "metadata": {
        "id": "YaGJMDdWzC7V"
      }
    }
  ]
}