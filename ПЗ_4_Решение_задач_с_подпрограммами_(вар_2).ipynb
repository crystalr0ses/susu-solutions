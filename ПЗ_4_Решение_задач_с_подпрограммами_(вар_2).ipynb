{
  "nbformat": 4,
  "nbformat_minor": 0,
  "metadata": {
    "colab": {
      "provenance": []
    },
    "kernelspec": {
      "name": "python3",
      "display_name": "Python 3"
    },
    "language_info": {
      "name": "python"
    }
  },
  "cells": [
    {
      "cell_type": "code",
      "execution_count": null,
      "metadata": {
        "id": "COkhjlQXEt2I",
        "colab": {
          "base_uri": "https://localhost:8080/"
        },
        "outputId": "0d311ff3-0fed-4fec-df50-9cd44e7b3b4a"
      },
      "outputs": [
        {
          "output_type": "stream",
          "name": "stdout",
          "text": [
            "8\n",
            "FibR(8)=21\n"
          ]
        }
      ],
      "source": [
        "def fibonacci(num):\n",
        "\tfirst, second = 0, 1\n",
        "\tif num == first:\n",
        "\t\treturn first\n",
        "\tif num == second:\n",
        "\t\treturn second\n",
        "\tfor _ in range(1, num):\n",
        "\t\t_next = first + second\n",
        "\t\tfirst = second\n",
        "\t\tsecond = _next\n",
        "\treturn _next\n",
        "\n",
        "number = int(input(''))\n",
        "print(f'FibR({number})={fibonacci(number)}')"
      ]
    }
  ]
}