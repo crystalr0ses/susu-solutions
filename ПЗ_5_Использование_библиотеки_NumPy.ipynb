{
  "nbformat": 4,
  "nbformat_minor": 0,
  "metadata": {
    "colab": {
      "provenance": []
    },
    "kernelspec": {
      "name": "python3",
      "display_name": "Python 3"
    },
    "language_info": {
      "name": "python"
    }
  },
  "cells": [
    {
      "cell_type": "code",
      "execution_count": null,
      "metadata": {
        "id": "vF7F-uNDLxbs"
      },
      "outputs": [],
      "source": [
        "import numpy as np"
      ]
    },
    {
      "cell_type": "markdown",
      "source": [
        "Даны 2 массива A (8x3) и B (2x2). Найти строки в A, которые содержат элементы из каждой строки в B, независимо от порядка элементов в B"
      ],
      "metadata": {
        "id": "THrbM-OINDRt"
      }
    },
    {
      "cell_type": "code",
      "source": [
        "np.random.seed(3)\n",
        "\n",
        "a = np.random.randint(1,5, (8,3))\n",
        "b = np.random.randint(1,3, (2,2))\n",
        "\n",
        "print(a, set(b.flatten()), sep='\\n')\n",
        "\n",
        "for x in a:\n",
        "    if set(x).intersection(set(b.flatten())) == set(b.flatten()):\n",
        "        print(x)"
      ],
      "metadata": {
        "colab": {
          "base_uri": "https://localhost:8080/"
        },
        "id": "xJUN40O-MJrD",
        "outputId": "92e56f11-2d7f-4ca3-a607-0894d1f107ec"
      },
      "execution_count": null,
      "outputs": [
        {
          "output_type": "stream",
          "name": "stdout",
          "text": [
            "[[3 1 2]\n",
            " [4 1 1]\n",
            " [1 2 2]\n",
            " [4 3 4]\n",
            " [2 2 3]\n",
            " [2 4 3]\n",
            " [1 1 1]\n",
            " [2 4 3]]\n",
            "{np.int64(1), np.int64(2)}\n",
            "[3 1 2]\n",
            "[1 2 2]\n"
          ]
        }
      ]
    },
    {
      "cell_type": "markdown",
      "source": [
        "Создайте массив из 1000 элементов со случайными значениями в диапазоне от [1, 10000]. Вывести n наибольших значений в массиве."
      ],
      "metadata": {
        "id": "kRTi-MlZNHKf"
      }
    },
    {
      "cell_type": "code",
      "source": [
        "np.random.seed(3)\n",
        "\n",
        "n = int(input('введите число наибольших чисел: '))\n",
        "\n",
        "a = np.random.randint(1, 10000, 1000)\n",
        "\n",
        "print(np.sort(a)[:len(a) - n:-1])"
      ],
      "metadata": {
        "id": "5Ul3QC8ML3MD",
        "colab": {
          "base_uri": "https://localhost:8080/"
        },
        "outputId": "f87894da-4961-4845-99eb-0bb46c8252ec"
      },
      "execution_count": null,
      "outputs": [
        {
          "output_type": "stream",
          "name": "stdout",
          "text": [
            "введите число наибольших чисел: 9\n",
            "[9996 9982 9981 9958 9952 9952 9937 9911]\n"
          ]
        }
      ]
    },
    {
      "cell_type": "markdown",
      "source": [
        "Создайте матрицу (90х76) со случайными значениями в диапазоне от [1, 10000]. Посчитайте ранг матрицы."
      ],
      "metadata": {
        "id": "vjzkjsLhNJq4"
      }
    },
    {
      "cell_type": "code",
      "source": [
        "np.random.seed(3)\n",
        "\n",
        "a = np.random.randint(1, 10000, (90,76))\n",
        "\n",
        "print(np.linalg.matrix_rank(a))"
      ],
      "metadata": {
        "colab": {
          "base_uri": "https://localhost:8080/"
        },
        "id": "M9jbjqimI4RF",
        "outputId": "ccd5719a-02a0-464e-c0a2-39c606f795b5"
      },
      "execution_count": null,
      "outputs": [
        {
          "output_type": "stream",
          "name": "stdout",
          "text": [
            "76\n"
          ]
        }
      ]
    },
    {
      "cell_type": "markdown",
      "source": [
        "Используя модуль linalg выполните расчеты над автоматически генерируемой вектором/матрицей:\n",
        "\n",
        "* решите систему линейных уравнений Ax = b;\n",
        "* посчитать определитель матрицы;\n",
        "* определить норму вектора;\n",
        "* возведите матрицу в степень n;\n",
        "* выведите обратную матрицу."
      ],
      "metadata": {
        "id": "cJdyVxjGNMeD"
      }
    },
    {
      "cell_type": "code",
      "source": [
        "# система лин. уравнений\n",
        "\n",
        "a = [[6,3], [3,-4]]\n",
        "b = [1,2]\n",
        "\n",
        "print(np.linalg.solve(a, b))"
      ],
      "metadata": {
        "colab": {
          "base_uri": "https://localhost:8080/"
        },
        "id": "jPW8GdSBNeYh",
        "outputId": "f4c6399c-8c24-4588-b3c0-783ed76c6d7a"
      },
      "execution_count": null,
      "outputs": [
        {
          "output_type": "stream",
          "name": "stdout",
          "text": [
            "[ 0.3030303  -0.27272727]\n"
          ]
        }
      ]
    },
    {
      "cell_type": "code",
      "source": [
        "np.random.seed(3)\n",
        "\n",
        "# определитель матрицы\n",
        "\n",
        "matrix = np.random.randint(1, 10, (5,5))\n",
        "\n",
        "print(f'{matrix} \\n {np.linalg.det(matrix)}')"
      ],
      "metadata": {
        "colab": {
          "base_uri": "https://localhost:8080/"
        },
        "id": "fxfHoBkZNVxN",
        "outputId": "013f8e96-cf12-4804-b4df-886c0c16cdc2"
      },
      "execution_count": null,
      "outputs": [
        {
          "output_type": "stream",
          "name": "stdout",
          "text": [
            "[[9 4 9 9 1]\n",
            " [6 4 6 8 7]\n",
            " [1 5 8 9 2]\n",
            " [7 3 3 2 4]\n",
            " [6 9 2 9 8]] \n",
            " 8219.999999999998\n"
          ]
        }
      ]
    },
    {
      "cell_type": "code",
      "source": [
        "np.random.seed(3)\n",
        "\n",
        "# норма вектора\n",
        "\n",
        "vector = np.random.randint(1, 100, 5)\n",
        "print(vector, np.linalg.vector_norm(vector), sep='\\n')"
      ],
      "metadata": {
        "colab": {
          "base_uri": "https://localhost:8080/"
        },
        "id": "LciZS2rcNVt9",
        "outputId": "bdf8b7b4-625f-477e-e396-27f863374379"
      },
      "execution_count": null,
      "outputs": [
        {
          "output_type": "stream",
          "name": "stdout",
          "text": [
            "[25  4 57 73  1]\n",
            "96.02083107326243\n"
          ]
        }
      ]
    },
    {
      "cell_type": "code",
      "source": [
        "np.random.seed(3)\n",
        "\n",
        "# возведение матрицы в степень n\n",
        "\n",
        "n = int(input('введите степень: '))\n",
        "\n",
        "matrix = np.random.randint(1, 100, (5,5))\n",
        "\n",
        "print(f'{matrix} \\n {np.linalg.matrix_power(matrix, n)}')"
      ],
      "metadata": {
        "colab": {
          "base_uri": "https://localhost:8080/"
        },
        "id": "eTQSWH_nNVp4",
        "outputId": "00335e7b-f2d1-43e3-a2a1-fdb12f619501"
      },
      "execution_count": null,
      "outputs": [
        {
          "output_type": "stream",
          "name": "stdout",
          "text": [
            "введите степень: 2\n",
            "[[25  4 57 73  1]\n",
            " [22 20 75 42 11]\n",
            " [22 39 97 21 45]\n",
            " [94 40 15 27 82]\n",
            " [91 23 67  3 64]] \n",
            " [[ 8920  5346  8416  5164  8684]\n",
            " [ 7589  5346 11396  5188  7765]\n",
            " [ 9611  6526 16918  5983  9418]\n",
            " [13560  4727 15712  9832  8671]\n",
            " [10361  5029 17744  9289  7701]]\n"
          ]
        }
      ]
    },
    {
      "cell_type": "code",
      "source": [
        "np.random.seed(3)\n",
        "\n",
        "# обратная матрица\n",
        "\n",
        "matrix = np.random.randint(1, 100, (5,5))\n",
        "print(f'{matrix} \\n {np.linalg.inv(matrix)}')"
      ],
      "metadata": {
        "id": "DTADP_UHL3q8",
        "colab": {
          "base_uri": "https://localhost:8080/"
        },
        "outputId": "a6cd439f-7173-4af7-a051-0d1a94713dfa"
      },
      "execution_count": null,
      "outputs": [
        {
          "output_type": "stream",
          "name": "stdout",
          "text": [
            "[[25  4 57 73  1]\n",
            " [22 20 75 42 11]\n",
            " [22 39 97 21 45]\n",
            " [94 40 15 27 82]\n",
            " [91 23 67  3 64]] \n",
            " [[-0.01844887  0.04379029 -0.02960329  0.0038225   0.00867904]\n",
            " [-0.05831416  0.10269088 -0.030407    0.02455237 -0.02681664]\n",
            " [ 0.00367454 -0.00399889  0.00683168 -0.00998575  0.00862061]\n",
            " [ 0.01976184 -0.01621043  0.00584535  0.00519814 -0.00829274]\n",
            " [ 0.04241552 -0.09422265  0.04559378 -0.00404846  0.00428574]]\n"
          ]
        }
      ]
    }
  ]
}